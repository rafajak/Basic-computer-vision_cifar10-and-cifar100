{
 "cells": [
  {
   "cell_type": "markdown",
   "metadata": {},
   "source": [
    "# Instructions\n",
    "\n",
    "Data augmentation is an important part of deep learning.\n",
    "Build Keras data generator that takes as an input:\n",
    "\n",
    "- *X* - images\n",
    "\n",
    "- *y* - targets\n",
    "\n",
    "- *datagen_args* - augmentation parameters passed to the image generator including:\n",
    "    - random rotation by 30 degrees\n",
    "    - random width shift by 10% of the width\n",
    "    - random heigth shift by 10% of the heigth\n",
    "    - rescale to 0-1 range\n",
    "\n",
    "- *flow_args* - data flow parameters passed to the .flow method of image generator\n",
    "    - batch_size of 256\n",
    "    - batch shuffling\n",
    "    \n",
    "Your function should output:\n",
    "- *flow* - which is the keras datagenerator and outputs randomly augmented batches of 256 image/target pairs\n",
    "- *steps* - number of batches in the dataset."
   ]
  },
  {
   "cell_type": "markdown",
   "metadata": {},
   "source": [
    "# Your Solution\n",
    "Your solution function should be called solution. \n",
    "\n",
    "CONFIG is not needed for this particular task but we left it here for consistency with other tasks. "
   ]
  },
  {
   "cell_type": "code",
   "execution_count": 1,
   "metadata": {
    "scrolled": true
   },
   "outputs": [
    {
     "name": "stderr",
     "output_type": "stream",
     "text": [
      "/home/rafal/.local/lib/python3.5/site-packages/h5py/__init__.py:36: FutureWarning: Conversion of the second argument of issubdtype from `float` to `np.floating` is deprecated. In future, it will be treated as `np.float64 == np.dtype(float).type`.\n",
      "  from ._conv import register_converters as _register_converters\n",
      "Using TensorFlow backend.\n"
     ]
    }
   ],
   "source": [
    "from keras.preprocessing.image import ImageDataGenerator\n",
    "from math import ceil"
   ]
  },
  {
   "cell_type": "code",
   "execution_count": 4,
   "metadata": {},
   "outputs": [],
   "source": [
    "CONFIG = {'datagen': {'rescale': 1. / 255,\n",
    "                          'rotation_range': 10,\n",
    "                          'width_shift_range': 0.2,\n",
    "                          'height_shift_range': 0.2,\n",
    "                          },\n",
    "              'flow': {'shuffle': True,\n",
    "                       'batch_size': 256,\n",
    "                      }\n",
    "             }"
   ]
  },
  {
   "cell_type": "code",
   "execution_count": 2,
   "metadata": {},
   "outputs": [],
   "source": [
    "def solution(X, y, datagen_args, flow_args):\n",
    "    print(flow_args)\n",
    "    \n",
    "    datagen = ImageDataGenerator(**datagen_args)\n",
    "\n",
    "    flow = datagen.flow(X, y, **flow_args)\n",
    "    steps = ceil(X.shape[0] / flow_args['batch_size'])\n",
    "\n",
    "    return flow, steps\n"
   ]
  },
  {
   "cell_type": "code",
   "execution_count": null,
   "metadata": {},
   "outputs": [],
   "source": []
  }
 ],
 "metadata": {
  "kernelspec": {
   "display_name": "Python 3",
   "language": "python",
   "name": "python3"
  },
  "language_info": {
   "codemirror_mode": {
    "name": "ipython",
    "version": 3
   },
   "file_extension": ".py",
   "mimetype": "text/x-python",
   "name": "python",
   "nbconvert_exporter": "python",
   "pygments_lexer": "ipython3",
   "version": "3.5.2"
  },
  "toc": {
   "colors": {
    "hover_highlight": "#DAA520",
    "running_highlight": "#FF0000",
    "selected_highlight": "#FFD700"
   },
   "moveMenuLeft": true,
   "nav_menu": {
    "height": "38px",
    "width": "255px"
   },
   "navigate_menu": true,
   "number_sections": false,
   "sideBar": true,
   "threshold": 4,
   "toc_cell": false,
   "toc_section_display": "block",
   "toc_window_display": false
  }
 },
 "nbformat": 4,
 "nbformat_minor": 1
}
